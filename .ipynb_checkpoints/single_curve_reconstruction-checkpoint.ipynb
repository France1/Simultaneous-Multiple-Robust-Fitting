{
 "cells": [
  {
   "cell_type": "markdown",
   "id": "constitutional-sunday",
   "metadata": {},
   "source": [
    "# Single Curve Reconstruction"
   ]
  },
  {
   "cell_type": "code",
   "execution_count": 60,
   "id": "defensive-jesus",
   "metadata": {},
   "outputs": [],
   "source": [
    "import sys\n",
    "sys.path.insert(0, \"../\")\n",
    "\n",
    "import numpy as np\n",
    "from matplotlib import pyplot as plt\n",
    "from skimage.morphology import dilation, disk\n",
    "\n",
    "from curve_reconstruction.linear_model import LinearModel\n",
    "from curve_reconstruction.irls import IRLS"
   ]
  },
  {
   "cell_type": "markdown",
   "id": "controlled-speaker",
   "metadata": {},
   "source": [
    "### Generate line with outliers"
   ]
  },
  {
   "cell_type": "code",
   "execution_count": 43,
   "id": "grateful-majority",
   "metadata": {},
   "outputs": [],
   "source": [
    "# Parameters\n",
    "w,h = 100,100          # image width and height\n",
    "sigma = 1              # gaussian noise scale\n",
    "a1_0, a1_1 = 30, 0.5   # line intercept and slope\n",
    "\n",
    "# Generate line\n",
    "A = [[a1_0, a1_1]]\n",
    "model_init = LinearModel('line', A)\n",
    "x = np.arange(w)\n",
    "y = model_init.predict(x,scale=sigma)\n",
    "y = list(map(int,y))\n",
    "\n",
    "# Generate image\n",
    "im = np.zeros((h,w), dtype=bool)\n",
    "im[y,x] = 1\n",
    "# add outlier\n",
    "im[10:15,80:85] = 1\n",
    "im = dilation(im,disk(1))"
   ]
  },
  {
   "cell_type": "markdown",
   "id": "approved-addition",
   "metadata": {},
   "source": [
    "### Ordinary Least Square Fitting"
   ]
  },
  {
   "cell_type": "code",
   "execution_count": 49,
   "id": "backed-therapist",
   "metadata": {},
   "outputs": [],
   "source": [
    "# Model data\n",
    "y_im, x_im = im.nonzero()\n",
    "X_im = model_init.basis_functions(x_im)\n",
    "# OLS Parameters estimation\n",
    "a_ols = np.dot(np.dot(np.linalg.inv(np.dot(X_im.T,X_im)), X_im.T), y_im)\n",
    "# Curve reconstruction\n",
    "model_ols = LinearModel('line', [a_ols])\n",
    "y_ols = model_ls.predict(x)"
   ]
  },
  {
   "cell_type": "markdown",
   "id": "manual-schedule",
   "metadata": {},
   "source": [
    "#### Plot Results"
   ]
  },
  {
   "cell_type": "code",
   "execution_count": 54,
   "id": "impressed-framing",
   "metadata": {},
   "outputs": [
    {
     "data": {
      "text/plain": [
       "Text(0.5, 1.0, 'Ordinary Least Squares')"
      ]
     },
     "execution_count": 54,
     "metadata": {},
     "output_type": "execute_result"
    },
    {
     "data": {
      "image/png": "[encoded data removed]",
      "text/plain": [
       "<Figure size 576x576 with 1 Axes>"
      ]
     },
     "metadata": {
      "needs_background": "light"
     },
     "output_type": "display_data"
    }
   ],
   "source": [
    "fig,ax = plt.subplots(1,1, figsize=(8,8))\n",
    "ax.imshow(im,cmap='gray')\n",
    "ax.plot(x,y_ols,'-g',lw=3)\n",
    "\n",
    "ax.set_aspect('equal')\n",
    "ax.axis('off')\n",
    "ax.set_title('Ordinary Least Squares', fontsize=20)"
   ]
  },
  {
   "cell_type": "markdown",
   "id": "swedish-duration",
   "metadata": {},
   "source": [
    "### Iterative Reweighted Least Squares"
   ]
  },
  {
   "cell_type": "code",
   "execution_count": 64,
   "id": "ordinary-protein",
   "metadata": {},
   "outputs": [],
   "source": [
    "# Initial parameters: horizontal line\n",
    "a0_0, a0_1 = 50, 0\n",
    "A_0 = [a0_0, a0_1]\n",
    "model_init = LinearModel('line', [A_0])\n",
    "y_init = model_init.predict(x)"
   ]
  },
  {
   "cell_type": "code",
   "execution_count": 68,
   "id": "related-bachelor",
   "metadata": {},
   "outputs": [
    {
     "name": "stdout",
     "output_type": "stream",
     "text": [
      "[31.2121902   0.45075629] 18.793216281728117\n",
      "[29.71646461  0.49107104] 1.4962688024449051\n",
      "[29.4295713   0.49883331] 0.28699830256979725\n",
      "[29.36964349  0.50046084] 0.059949904202806985\n",
      "[29.35710719  0.50080172] 0.012540931969162361\n",
      "[29.35448576  0.50087305] 0.0026224029629251084\n",
      "[29.35393765  0.50088797] 0.0005483091531762024\n"
     ]
    }
   ],
   "source": [
    "noise_model = 'geman'\n",
    "scale = 5\n",
    "A_irls = IRLS(X_im,y_im,A_0,noise_model,scale)"
   ]
  },
  {
   "cell_type": "code",
   "execution_count": 71,
   "id": "metric-porter",
   "metadata": {},
   "outputs": [],
   "source": [
    "# Curve reconstruction\n",
    "model_irls = LinearModel('line', [A_irls])\n",
    "y_irls = model_irls.predict(x)"
   ]
  },
  {
   "cell_type": "code",
   "execution_count": 76,
   "id": "knowing-shannon",
   "metadata": {},
   "outputs": [
    {
     "data": {
      "text/plain": [
       "<matplotlib.legend.Legend at 0x7fa340e4cb10>"
      ]
     },
     "execution_count": 76,
     "metadata": {},
     "output_type": "execute_result"
    },
    {
     "data": {
      "image/png": "[encoded data removed]",
      "text/plain": [
       "<Figure size 576x576 with 1 Axes>"
      ]
     },
     "metadata": {
      "needs_background": "light"
     },
     "output_type": "display_data"
    }
   ],
   "source": [
    "fig,ax = plt.subplots(1,1, figsize=(8,8))\n",
    "ax.imshow(im,cmap='gray')\n",
    "ax.plot(x,y_init,'-r',lw=3, label='initial')\n",
    "ax.plot(x,y_irls,'-g',lw=3, label='fit')\n",
    "\n",
    "ax.set_aspect('equal')\n",
    "ax.axis('off')\n",
    "ax.set_title('Iterative Reweighted Least Squares', fontsize=20)\n",
    "ax.legend()"
   ]
  },
  {
   "cell_type": "code",
   "execution_count": null,
   "id": "emotional-adapter",
   "metadata": {},
   "outputs": [],
   "source": []
  }
 ],
 "metadata": {
  "kernelspec": {
   "display_name": "Python 3",
   "language": "python",
   "name": "python3"
  },
  "language_info": {
   "codemirror_mode": {
    "name": "ipython",
    "version": 3
   },
   "file_extension": ".py",
   "mimetype": "text/x-python",
   "name": "python",
   "nbconvert_exporter": "python",
   "pygments_lexer": "ipython3",
   "version": "3.7.9"
  }
 },
 "nbformat": 4,
 "nbformat_minor": 5
}
