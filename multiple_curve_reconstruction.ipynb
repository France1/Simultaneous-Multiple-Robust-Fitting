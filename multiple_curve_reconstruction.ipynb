{
 "cells": [
  {
   "cell_type": "markdown",
   "id": "mathematical-terrain",
   "metadata": {},
   "source": [
    "# Simultaneous Multiple Curve Reconstruction"
   ]
  },
  {
   "cell_type": "code",
   "execution_count": 1,
   "id": "measured-traffic",
   "metadata": {},
   "outputs": [],
   "source": [
    "import sys\n",
    "sys.path.insert(0, \"../\")\n",
    "\n",
    "import numpy as np\n",
    "from matplotlib import pyplot as plt\n",
    "from skimage.morphology import dilation, disk\n",
    "\n",
    "from curve_reconstruction.linear_model import LinearModel\n",
    "from curve_reconstruction.smrf import SMRF"
   ]
  },
  {
   "cell_type": "markdown",
   "id": "applied-generic",
   "metadata": {},
   "source": [
    "### Generate multiple interrupted lines"
   ]
  },
  {
   "cell_type": "code",
   "execution_count": 2,
   "id": "early-gazette",
   "metadata": {},
   "outputs": [],
   "source": [
    "# Parameters\n",
    "w,h = 100,100               # image width and height\n",
    "sigma = 2                   # gaussian noise scale\n",
    "a1_0, a1_1 = 30, 0.5        # 1st line intercept and slope\n",
    "a2_0, a2_1 = 70, -0.5       # 2nd line intercept and slope\n",
    "w1_start, w1_end = 30, 70   # width interruption 1st line\n",
    "w2_start, w2_end = 40, 60   # width interruption 2nd line\n",
    "\n",
    "# Generate 1st line\n",
    "model_1 = LinearModel('line', [[a1_0, a1_1]])\n",
    "x1 = np.array([x_i for x_i in np.arange(w) if x_i<w1_start or x_i>w1_end])\n",
    "y1 = model_1.predict(x1,scale=sigma)\n",
    "y1 = list(map(int,y1))\n",
    "\n",
    "# Generate 2nd line\n",
    "model_2 = LinearModel('line', [[a2_0, a2_1]])\n",
    "x2 = np.array([x_i for x_i in np.arange(w) if x_i<w2_start or x_i>w2_end])\n",
    "y2 = model_2.predict(x2,scale=sigma)\n",
    "y2 = list(map(int,y2))\n",
    "\n",
    "# Generate image\n",
    "im = np.zeros((h,w), dtype=bool)\n",
    "im[y1,x1] = 1\n",
    "im[y2,x2] = 1\n",
    "im = dilation(im,disk(1))\n",
    "\n",
    "# Model data\n",
    "y_im, x_im = im.nonzero()\n",
    "X_im = model_1.basis_functions(x_im)"
   ]
  },
  {
   "cell_type": "markdown",
   "id": "concrete-startup",
   "metadata": {},
   "source": [
    "### Simultaneous Multiple Robust Fitting"
   ]
  },
  {
   "cell_type": "code",
   "execution_count": 12,
   "id": "threatened-mercury",
   "metadata": {},
   "outputs": [],
   "source": [
    "# Initial parameters: 3 horizontal lines\n",
    "a0_0, a0_1 = 10, 0\n",
    "a1_0, a1_1 = 50, 0\n",
    "a2_0, a2_1 = 80, 0\n",
    "\n",
    "A_init = np.array([[a0_0, a0_1],\n",
    "       [a1_0, a1_1],\n",
    "       [a2_0, a2_1]])\n",
    "model_init = LinearModel('line', A_init)\n",
    "x = np.arange(w)\n",
    "Y_init = model_init.predict(x)"
   ]
  },
  {
   "cell_type": "code",
   "execution_count": 5,
   "id": "brazilian-winner",
   "metadata": {},
   "outputs": [],
   "source": [
    "# Select a noise model from Table 1 of Tarel et al. 2002, and scale suitable for the problem\n",
    "noise_model = 'cauchy'\n",
    "scale = 5\n",
    "A_smrf = SMRF(X_im,y_im,A_init,noise_model,scale)\n",
    "# Curve reconstruction\n",
    "model_smrf = LinearModel('line', A_smrf)\n",
    "Y_smrf = model_smrf.predict(x)"
   ]
  },
  {
   "cell_type": "markdown",
   "id": "floral-clearing",
   "metadata": {},
   "source": [
    "#### Plot results"
   ]
  },
  {
   "cell_type": "code",
   "execution_count": 11,
   "id": "passing-wright",
   "metadata": {},
   "outputs": [
    {
     "data": {
      "text/plain": [
       "Text(0.5, 1.0, 'Simultaneous Multiple Robust Fitting')"
      ]
     },
     "execution_count": 11,
     "metadata": {},
     "output_type": "execute_result"
    },
    {
     "data": {
      "image/png": "[encoded data removed]",
      "text/plain": [
       "<Figure size 576x576 with 1 Axes>"
      ]
     },
     "metadata": {
      "needs_background": "light"
     },
     "output_type": "display_data"
    }
   ],
   "source": [
    "fig,ax = plt.subplots(1,1, figsize=(8,8))\n",
    "ax.imshow(im,cmap='gray')\n",
    "for y in Y_init:\n",
    "    ax.plot(x,y,'-r',lw=3,linestyle='--', dashes=(5,5))\n",
    "for y in Y_smrf:\n",
    "    ax.plot(x,y,'-g',lw=3)\n",
    "ax.set_aspect('equal')\n",
    "ax.axis('off')\n",
    "ax.set_title('Simultaneous Multiple Robust Fitting', fontsize=20)"
   ]
  },
  {
   "cell_type": "code",
   "execution_count": null,
   "id": "fourth-oriental",
   "metadata": {},
   "outputs": [],
   "source": []
  }
 ],
 "metadata": {
  "kernelspec": {
   "display_name": "Python 3",
   "language": "python",
   "name": "python3"
  },
  "language_info": {
   "codemirror_mode": {
    "name": "ipython",
    "version": 3
   },
   "file_extension": ".py",
   "mimetype": "text/x-python",
   "name": "python",
   "nbconvert_exporter": "python",
   "pygments_lexer": "ipython3",
   "version": "3.7.9"
  }
 },
 "nbformat": 4,
 "nbformat_minor": 5
}
